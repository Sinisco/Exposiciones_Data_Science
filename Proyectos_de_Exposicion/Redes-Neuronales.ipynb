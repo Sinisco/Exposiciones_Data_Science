{
 "cells": [
  {
   "cell_type": "markdown",
   "metadata": {},
   "source": [
    "# Franz Albert Rivas Rios"
   ]
  },
  {
   "cell_type": "code",
   "execution_count": 3,
   "metadata": {
    "id": "S6c69fc-BgF2"
   },
   "outputs": [],
   "source": [
    "import numpy as np\n",
    "np.random.seed(4)\n",
    "import matplotlib.pyplot as plt\n",
    "import pandas as pd\n",
    "import pandas_datareader.data as web\n",
    "import datetime"
   ]
  },
  {
   "cell_type": "code",
   "execution_count": 4,
   "metadata": {
    "id": "8bMQ1IYJBgGe"
   },
   "outputs": [],
   "source": [
    "from sklearn.preprocessing import MinMaxScaler\n",
    "from keras.layers import Dense, LSTM\n",
    "from keras.models import Sequential"
   ]
  },
  {
   "cell_type": "code",
   "execution_count": 5,
   "metadata": {
    "id": "iTWe1pMPBgGi"
   },
   "outputs": [],
   "source": [
    "#\n",
    "# Funciones auxiliares\n",
    "#\n",
    "def graficar_predicciones(real, prediccion):\n",
    "    plt.plot(real[0:len(prediccion)],color='red', label='Valor real de la acción')\n",
    "    plt.plot(prediccion, color='blue', label='Predicción de la acción')\n",
    "    plt.ylim(1.1 * np.min(prediccion)/2, 1.1 * np.max(prediccion))\n",
    "    plt.xlabel('Tiempo')\n",
    "    plt.ylabel('Valor de la acción')\n",
    "    plt.legend()\n",
    "    plt.show()"
   ]
  },
  {
   "cell_type": "code",
   "execution_count": 6,
   "metadata": {
    "colab": {
     "base_uri": "https://localhost:8080/",
     "height": 238
    },
    "id": "glBn7jm-BgGo",
    "outputId": "6d4cd7f6-122f-431f-81ab-03e0bc8f03ef"
   },
   "outputs": [
    {
     "data": {
      "text/html": [
       "<div>\n",
       "<style scoped>\n",
       "    .dataframe tbody tr th:only-of-type {\n",
       "        vertical-align: middle;\n",
       "    }\n",
       "\n",
       "    .dataframe tbody tr th {\n",
       "        vertical-align: top;\n",
       "    }\n",
       "\n",
       "    .dataframe thead th {\n",
       "        text-align: right;\n",
       "    }\n",
       "</style>\n",
       "<table border=\"1\" class=\"dataframe\">\n",
       "  <thead>\n",
       "    <tr style=\"text-align: right;\">\n",
       "      <th></th>\n",
       "      <th>High</th>\n",
       "      <th>Low</th>\n",
       "      <th>Open</th>\n",
       "      <th>Close</th>\n",
       "      <th>Volume</th>\n",
       "      <th>Adj Close</th>\n",
       "    </tr>\n",
       "    <tr>\n",
       "      <th>Date</th>\n",
       "      <th></th>\n",
       "      <th></th>\n",
       "      <th></th>\n",
       "      <th></th>\n",
       "      <th></th>\n",
       "      <th></th>\n",
       "    </tr>\n",
       "  </thead>\n",
       "  <tbody>\n",
       "    <tr>\n",
       "      <th>2010-10-01</th>\n",
       "      <td>109.279999</td>\n",
       "      <td>103.500000</td>\n",
       "      <td>105.080002</td>\n",
       "      <td>108.300003</td>\n",
       "      <td>951600.0</td>\n",
       "      <td>88.645699</td>\n",
       "    </tr>\n",
       "    <tr>\n",
       "      <th>2010-11-01</th>\n",
       "      <td>112.300003</td>\n",
       "      <td>107.480003</td>\n",
       "      <td>108.919998</td>\n",
       "      <td>108.180000</td>\n",
       "      <td>1070400.0</td>\n",
       "      <td>88.547455</td>\n",
       "    </tr>\n",
       "    <tr>\n",
       "      <th>2010-12-01</th>\n",
       "      <td>115.599998</td>\n",
       "      <td>109.879997</td>\n",
       "      <td>109.919998</td>\n",
       "      <td>115.139999</td>\n",
       "      <td>1670300.0</td>\n",
       "      <td>94.244339</td>\n",
       "    </tr>\n",
       "    <tr>\n",
       "      <th>2011-01-01</th>\n",
       "      <td>119.220001</td>\n",
       "      <td>115.480003</td>\n",
       "      <td>115.940002</td>\n",
       "      <td>117.699997</td>\n",
       "      <td>4402150.0</td>\n",
       "      <td>96.780792</td>\n",
       "    </tr>\n",
       "    <tr>\n",
       "      <th>2011-02-01</th>\n",
       "      <td>123.220001</td>\n",
       "      <td>118.379997</td>\n",
       "      <td>118.480003</td>\n",
       "      <td>121.779999</td>\n",
       "      <td>2761400.0</td>\n",
       "      <td>100.135674</td>\n",
       "    </tr>\n",
       "  </tbody>\n",
       "</table>\n",
       "</div>"
      ],
      "text/plain": [
       "                  High         Low        Open       Close     Volume  \\\n",
       "Date                                                                    \n",
       "2010-10-01  109.279999  103.500000  105.080002  108.300003   951600.0   \n",
       "2010-11-01  112.300003  107.480003  108.919998  108.180000  1070400.0   \n",
       "2010-12-01  115.599998  109.879997  109.919998  115.139999  1670300.0   \n",
       "2011-01-01  119.220001  115.480003  115.940002  117.699997  4402150.0   \n",
       "2011-02-01  123.220001  118.379997  118.480003  121.779999  2761400.0   \n",
       "\n",
       "             Adj Close  \n",
       "Date                    \n",
       "2010-10-01   88.645699  \n",
       "2010-11-01   88.547455  \n",
       "2010-12-01   94.244339  \n",
       "2011-01-01   96.780792  \n",
       "2011-02-01  100.135674  "
      ]
     },
     "execution_count": 6,
     "metadata": {},
     "output_type": "execute_result"
    }
   ],
   "source": [
    "#\n",
    "# Lectura de los datos\n",
    "#\n",
    "#dataset = pd.read_csv('Futuros del Índice S&P 500 - Este es el bueno.csv', index_col='Fecha', parse_dates=['Fecha'])\n",
    "#dataset.head()\n",
    "# start = datetime.datetime(2010,1,1)\n",
    "# end = datetime.datetime(2020,12,31)\n",
    "dataset = web.get_data_yahoo('VOO','01/01/2010',interval='m')\n",
    "dataset.head()"
   ]
  },
  {
   "cell_type": "code",
   "execution_count": 7,
   "metadata": {
    "colab": {
     "base_uri": "https://localhost:8080/",
     "height": 279
    },
    "id": "dSadYSVgBgG6",
    "outputId": "7c882209-2836-4158-fe7e-69e2d3e606e7"
   },
   "outputs": [
    {
     "data": {
      "image/png": "[encoded data removed]",
      "text/plain": [
       "<Figure size 432x288 with 1 Axes>"
      ]
     },
     "metadata": {
      "needs_background": "light"
     },
     "output_type": "display_data"
    }
   ],
   "source": [
    "#\n",
    "# Sets de entrenamiento y validación \n",
    "# La LSTM se entrenará con datos de 2016 hacia atrás. La validación se hará con datos de 2017 en adelante.\n",
    "# En ambos casos sólo se usará el valor más alto de la acción para cada día\n",
    "#\n",
    "\n",
    "set_entrenamiento = dataset['2010':'2019'].iloc[:,3:4]\n",
    "set_validacion = dataset['2020':].iloc[:,3:4]\n",
    "set_entrenamiento['Close'].plot(legend=True)\n",
    "set_validacion['Close'].plot(legend=True)\n",
    "plt.legend(['Entrenamiento (Ene 2010-Dic 2019)', 'Validacion (Ene 2020 - Actualidad)'])\n",
    "plt.show()"
   ]
  },
  {
   "cell_type": "code",
   "execution_count": 8,
   "metadata": {
    "colab": {
     "base_uri": "https://localhost:8080/"
    },
    "id": "yZfQMFJvBgHG",
    "outputId": "62d42de7-5a1d-4aca-bed2-5e18fe5148b1"
   },
   "outputs": [
    {
     "name": "stdout",
     "output_type": "stream",
     "text": [
      "MinMaxScaler()\n",
      "                 Close\n",
      "Date                  \n",
      "2010-10-01  108.300003\n",
      "2010-11-01  108.180000\n",
      "2010-12-01  115.139999\n",
      "2011-01-01  117.699997\n",
      "2011-02-01  121.779999\n",
      "...                ...\n",
      "2019-08-01  268.600006\n",
      "2019-09-01  272.600006\n",
      "2019-10-01  278.549988\n",
      "2019-11-01  288.649994\n",
      "2019-12-01  295.799988\n",
      "\n",
      "[111 rows x 1 columns]\n",
      "[[0.02485961]\n",
      " [0.02423551]\n",
      " [0.06043272]\n",
      " [0.07374662]\n",
      " [0.09496569]\n",
      " [0.09215728]\n",
      " [0.11067198]\n",
      " [0.10307885]\n",
      " [0.08924487]\n",
      " [0.076347  ]\n",
      " [0.04243813]\n",
      " [0.        ]\n",
      " [0.05783234]\n",
      " [0.05606411]\n",
      " [0.05918455]\n",
      " [0.0859164 ]\n",
      " [0.11264825]\n",
      " [0.13116294]\n",
      " [0.12689829]\n",
      " [0.08695653]\n",
      " [0.10942377]\n",
      " [0.11722489]\n",
      " [0.13365928]\n",
      " [0.14728521]\n",
      " [0.13386727]\n",
      " [0.13771585]\n",
      " [0.13969216]\n",
      " [0.17474516]\n",
      " [0.18421056]\n",
      " [0.2067818 ]\n",
      " [0.22238404]\n",
      " [0.24006656]\n",
      " [0.22446431]\n",
      " [0.26492621]\n",
      " [0.2401706 ]\n",
      " [0.26253383]\n",
      " [0.29831501]\n",
      " [0.32338258]\n",
      " [0.34132515]\n",
      " [0.31027667]\n",
      " [0.34902232]\n",
      " [0.35276686]\n",
      " [0.35921574]\n",
      " [0.37981074]\n",
      " [0.39478885]\n",
      " [0.38194307]\n",
      " [0.41850433]\n",
      " [0.40082174]\n",
      " [0.42339297]\n",
      " [0.44991682]\n",
      " [0.44143957]\n",
      " [0.41330358]\n",
      " [0.46640319]\n",
      " [0.44560019]\n",
      " [0.45548166]\n",
      " [0.46791145]\n",
      " [0.44372792]\n",
      " [0.465103  ]\n",
      " [0.40352615]\n",
      " [0.37544213]\n",
      " [0.45267321]\n",
      " [0.4568858 ]\n",
      " [0.43379447]\n",
      " [0.38605163]\n",
      " [0.38412737]\n",
      " [0.44227171]\n",
      " [0.44570423]\n",
      " [0.46297067]\n",
      " [0.46120244]\n",
      " [0.49802375]\n",
      " [0.49927196]\n",
      " [0.49495533]\n",
      " [0.47644067]\n",
      " [0.51425006]\n",
      " [0.52938426]\n",
      " [0.54841902]\n",
      " [0.59054512]\n",
      " [0.58680058]\n",
      " [0.59850226]\n",
      " [0.61446852]\n",
      " [0.61649681]\n",
      " [0.64031625]\n",
      " [0.64374876]\n",
      " [0.66174331]\n",
      " [0.68967139]\n",
      " [0.7272208 ]\n",
      " [0.73731019]\n",
      " [0.80856044]\n",
      " [0.75837324]\n",
      " [0.72061583]\n",
      " [0.72498444]\n",
      " [0.75551281]\n",
      " [0.75925736]\n",
      " [0.80549201]\n",
      " [0.84876228]\n",
      " [0.85047846]\n",
      " [0.75551281]\n",
      " [0.77990434]\n",
      " [0.65680261]\n",
      " [0.75145623]\n",
      " [0.79337434]\n",
      " [0.81142094]\n",
      " [0.86587279]\n",
      " [0.77673188]\n",
      " [0.86140007]\n",
      " [0.88183897]\n",
      " [0.85853972]\n",
      " [0.87934272]\n",
      " [0.91028708]\n",
      " [0.96281468]\n",
      " [1.        ]]\n"
     ]
    }
   ],
   "source": [
    "# Normalización del set de entrenamiento\n",
    "sc = MinMaxScaler(feature_range=(0,1))\n",
    "print(sc)\n",
    "print(set_entrenamiento)\n",
    "set_entrenamiento_escalado = sc.fit_transform(set_entrenamiento)\n",
    "print(set_entrenamiento_escalado)"
   ]
  },
  {
   "cell_type": "markdown",
   "metadata": {
    "id": "7mLXvcbvBgHL"
   },
   "source": [
    "## La red LSTM tendrá como entrada \"time_step\" datos consecutivos, y como salida 1 dato (la predicción a\n",
    "# partir de esos \"time_step\" datos). Se conformará de esta forma el set de entrenamiento\n",
    "time_step = 726\n",
    "X_train = []\n",
    "Y_train = []\n",
    "m = len(set_entrenamiento_escalado)"
   ]
  },
  {
   "cell_type": "code",
   "execution_count": 9,
   "metadata": {
    "id": "LPH7Qxe4KibN"
   },
   "outputs": [],
   "source": [
    "time_step = 1\n",
    "X_train = [] \n",
    "Y_train = [] \n",
    "m = len(set_entrenamiento_escalado)"
   ]
  },
  {
   "cell_type": "code",
   "execution_count": 10,
   "metadata": {
    "colab": {
     "base_uri": "https://localhost:8080/"
    },
    "id": "Qr0LzvuRBgHQ",
    "outputId": "dcf7a5b2-6f20-494d-d086-c5d5327be346"
   },
   "outputs": [
    {
     "data": {
      "text/plain": [
       "110"
      ]
     },
     "execution_count": 10,
     "metadata": {},
     "output_type": "execute_result"
    }
   ],
   "source": [
    "for i in range(time_step,m):\n",
    "    # X: bloques de \"time_step\" datos: 0-time_step, 1-time_step+1, 2-time_step+2, etc\n",
    "    X_train.append(set_entrenamiento_escalado[i-time_step:i,0])\n",
    "    # Y: el siguiente dato\n",
    "    Y_train.append(set_entrenamiento_escalado[i,0])\n",
    "X_train, Y_train = np.array(X_train), np.array(Y_train)\n",
    "X_train = np.reshape(X_train, (X_train.shape[0], X_train.shape[1], 1))\n",
    "len(X_train)"
   ]
  },
  {
   "cell_type": "code",
   "execution_count": 11,
   "metadata": {
    "colab": {
     "base_uri": "https://localhost:8080/"
    },
    "id": "okIZxUBSBgHg",
    "outputId": "82d6864b-23d9-4468-8270-911970e8aa73"
   },
   "outputs": [
    {
     "name": "stdout",
     "output_type": "stream",
     "text": [
      "(1, 1)\n",
      "Epoch 1/20\n",
      "10/10 [==============================] - 2s 5ms/step - loss: 0.2266\n",
      "Epoch 2/20\n",
      "10/10 [==============================] - 0s 3ms/step - loss: 0.1116\n",
      "Epoch 3/20\n",
      "10/10 [==============================] - 0s 4ms/step - loss: 0.0711\n",
      "Epoch 4/20\n",
      "10/10 [==============================] - 0s 3ms/step - loss: 0.0470\n",
      "Epoch 5/20\n",
      "10/10 [==============================] - 0s 4ms/step - loss: 0.0299\n",
      "Epoch 6/20\n",
      "10/10 [==============================] - 0s 5ms/step - loss: 0.0227\n",
      "Epoch 7/20\n",
      "10/10 [==============================] - 0s 4ms/step - loss: 0.0220\n",
      "Epoch 8/20\n",
      "10/10 [==============================] - 0s 4ms/step - loss: 0.0184\n",
      "Epoch 9/20\n",
      "10/10 [==============================] - 0s 4ms/step - loss: 0.0139\n",
      "Epoch 10/20\n",
      "10/10 [==============================] - 0s 4ms/step - loss: 0.0108\n",
      "Epoch 11/20\n",
      "10/10 [==============================] - 0s 4ms/step - loss: 0.0072\n",
      "Epoch 12/20\n",
      "10/10 [==============================] - 0s 4ms/step - loss: 0.0057\n",
      "Epoch 13/20\n",
      "10/10 [==============================] - 0s 3ms/step - loss: 0.0029\n",
      "Epoch 14/20\n",
      "10/10 [==============================] - 0s 5ms/step - loss: 0.0023\n",
      "Epoch 15/20\n",
      "10/10 [==============================] - 0s 4ms/step - loss: 0.0022\n",
      "Epoch 16/20\n",
      "10/10 [==============================] - 0s 5ms/step - loss: 0.0018\n",
      "Epoch 17/20\n",
      "10/10 [==============================] - 0s 4ms/step - loss: 0.0020\n",
      "Epoch 18/20\n",
      "10/10 [==============================] - 0s 4ms/step - loss: 0.0014\n",
      "Epoch 19/20\n",
      "10/10 [==============================] - 0s 4ms/step - loss: 0.0014\n",
      "Epoch 20/20\n",
      "10/10 [==============================] - 0s 3ms/step - loss: 0.0012\n"
     ]
    },
    {
     "data": {
      "text/plain": [
       "<tensorflow.python.keras.callbacks.History at 0x7ff956305f40>"
      ]
     },
     "execution_count": 11,
     "metadata": {},
     "output_type": "execute_result"
    }
   ],
   "source": [
    "#\n",
    "# Red LSTM\n",
    "#\n",
    "dim_entrada = (X_train.shape[1],1)\n",
    "dim_salida = 1\n",
    "print(dim_entrada)\n",
    "na = 200\n",
    "\n",
    "modelo = Sequential()\n",
    "modelo.add(LSTM(units=na, input_shape=dim_entrada))\n",
    "modelo.add(Dense(units=dim_salida))\n",
    "modelo.compile(optimizer='rmsprop', loss='mse')\n",
    "modelo.fit(X_train,Y_train,epochs=20,batch_size=12)"
   ]
  },
  {
   "cell_type": "code",
   "execution_count": 12,
   "metadata": {
    "colab": {
     "base_uri": "https://localhost:8080/",
     "height": 785
    },
    "id": "C0X8ySdsBgHp",
    "outputId": "2aa6640c-3d2d-4bb5-8c4d-4d550d29c3bd"
   },
   "outputs": [
    {
     "name": "stdout",
     "output_type": "stream",
     "text": [
      "                 Close\n",
      "Date                  \n",
      "2020-01-01  295.690002\n",
      "2020-02-01  271.739990\n",
      "2020-03-01  236.820007\n",
      "2020-04-01  267.100006\n",
      "2020-05-01  279.750000\n",
      "2020-06-01  283.429993\n",
      "2020-07-01  300.100006\n",
      "2020-08-01  321.019989\n",
      "2020-09-01  307.649994\n",
      "2020-10-01  299.820007\n",
      "2020-11-01  332.640015\n",
      "2020-12-01  343.690002\n",
      "2021-01-01  351.899994\n",
      "2021-01-25  351.739990\n",
      "[[295.77048]\n",
      " [270.3667 ]\n",
      " [234.15448]\n",
      " [265.49753]\n",
      " [278.81284]\n",
      " [282.7102 ]\n",
      " [300.4966 ]\n",
      " [323.11508]\n",
      " [308.62204]\n",
      " [300.19614]\n",
      " [335.81683]\n",
      " [347.9843 ]\n",
      " [357.07938]]\n"
     ]
    },
    {
     "data": {
      "image/png": "[encoded data removed]",
      "text/plain": [
       "<Figure size 432x288 with 1 Axes>"
      ]
     },
     "metadata": {
      "needs_background": "light"
     },
     "output_type": "display_data"
    }
   ],
   "source": [
    "#\n",
    "# Validación (predicción del valor de las acciones)\n",
    "#\n",
    "\n",
    "x_test = set_validacion.values\n",
    "x_test = sc.transform(x_test)\n",
    "\n",
    "X_test = []\n",
    "\n",
    "m = len(x_test)\n",
    "for i in range(time_step,m):\n",
    "  X_test.append(x_test[i-time_step:i,0])\n",
    "X_test = np.array(X_test)\n",
    "X_test = np.reshape(X_test, (X_test.shape[0],X_test.shape[1],1))\n",
    "\n",
    "prediccion = modelo.predict(X_test)\n",
    "prediccion = sc.inverse_transform(prediccion)\n",
    "\n",
    "# Graficar resultados\n",
    "print(set_validacion)\n",
    "print(prediccion)\n",
    "graficar_predicciones(set_validacion.values,prediccion)"
   ]
  },
  {
   "cell_type": "code",
   "execution_count": 13,
   "metadata": {},
   "outputs": [
    {
     "name": "stdout",
     "output_type": "stream",
     "text": [
      " Train accuracy: 90529.5390625\n"
     ]
    }
   ],
   "source": [
    "score = modelo.evaluate(X_test, prediccion, batch_size=12, verbose=0)\n",
    "print(' Train accuracy:', score)"
   ]
  },
  {
   "cell_type": "markdown",
   "metadata": {},
   "source": [
    "# Ejericico"
   ]
  },
  {
   "cell_type": "code",
   "execution_count": 22,
   "metadata": {},
   "outputs": [],
   "source": [
    "start = datetime.datetime(2015,1,1)\n",
    "end = datetime.datetime(2020,12,31)\n",
    "facebook = web.DataReader('FB', 'yahoo', start, end)\n",
    "dataset = facebook"
   ]
  },
  {
   "cell_type": "code",
   "execution_count": 23,
   "metadata": {},
   "outputs": [
    {
     "data": {
      "image/png": "[encoded data removed]",
      "text/plain": [
       "<Figure size 432x288 with 1 Axes>"
      ]
     },
     "metadata": {
      "needs_background": "light"
     },
     "output_type": "display_data"
    }
   ],
   "source": [
    "set_entrenamiento = dataset['2010':'2019'].iloc[:,3:4]\n",
    "set_validacion = dataset['2020':].iloc[:,3:4]\n",
    "set_entrenamiento['Close'].plot(legend=True)\n",
    "set_validacion['Close'].plot(legend=True)\n",
    "plt.legend(['Entrenamiento (Ene 2010-Dic 2019)', 'Validacion (Ene 2020 - Actualidad)'])\n",
    "plt.show()"
   ]
  },
  {
   "cell_type": "code",
   "execution_count": 24,
   "metadata": {},
   "outputs": [
    {
     "name": "stdout",
     "output_type": "stream",
     "text": [
      "MinMaxScaler()\n",
      "                 Close\n",
      "Date                  \n",
      "2015-01-02   78.449997\n",
      "2015-01-05   77.190002\n",
      "2015-01-06   76.150002\n",
      "2015-01-07   76.150002\n",
      "2015-01-08   78.180000\n",
      "...                ...\n",
      "2019-12-24  205.119995\n",
      "2019-12-26  207.789993\n",
      "2019-12-27  208.100006\n",
      "2019-12-30  204.410004\n",
      "2019-12-31  205.250000\n",
      "\n",
      "[1258 rows x 1 columns]\n",
      "[[0.03067267]\n",
      " [0.02188916]\n",
      " [0.01463924]\n",
      " ...\n",
      " [0.93447198]\n",
      " [0.90874872]\n",
      " [0.91460439]]\n"
     ]
    }
   ],
   "source": [
    "# Normalización del set de entrenamiento\n",
    "sc = MinMaxScaler(feature_range=(0,1))\n",
    "print(sc)\n",
    "print(set_entrenamiento)\n",
    "set_entrenamiento_escalado = sc.fit_transform(set_entrenamiento)\n",
    "print(set_entrenamiento_escalado)"
   ]
  },
  {
   "cell_type": "code",
   "execution_count": 25,
   "metadata": {},
   "outputs": [],
   "source": [
    "time_step = 1\n",
    "X_train = [] \n",
    "Y_train = [] \n",
    "m = len(set_entrenamiento_escalado)"
   ]
  },
  {
   "cell_type": "code",
   "execution_count": 26,
   "metadata": {},
   "outputs": [
    {
     "data": {
      "text/plain": [
       "1257"
      ]
     },
     "execution_count": 26,
     "metadata": {},
     "output_type": "execute_result"
    }
   ],
   "source": [
    "for i in range(time_step,m):\n",
    "    # X: bloques de \"time_step\" datos: 0-time_step, 1-time_step+1, 2-time_step+2, etc\n",
    "    X_train.append(set_entrenamiento_escalado[i-time_step:i,0])\n",
    "    # Y: el siguiente dato\n",
    "    Y_train.append(set_entrenamiento_escalado[i,0])\n",
    "X_train, Y_train = np.array(X_train), np.array(Y_train)\n",
    "X_train = np.reshape(X_train, (X_train.shape[0], X_train.shape[1], 1))\n",
    "len(X_train)"
   ]
  },
  {
   "cell_type": "code",
   "execution_count": 27,
   "metadata": {},
   "outputs": [
    {
     "name": "stdout",
     "output_type": "stream",
     "text": [
      "(1, 1)\n",
      "Epoch 1/20\n",
      "105/105 [==============================] - 2s 3ms/step - loss: 0.1221\n",
      "Epoch 2/20\n",
      "105/105 [==============================] - 0s 3ms/step - loss: 0.0031\n",
      "Epoch 3/20\n",
      "105/105 [==============================] - 0s 3ms/step - loss: 4.9347e-04\n",
      "Epoch 4/20\n",
      "105/105 [==============================] - 0s 3ms/step - loss: 4.2847e-04\n",
      "Epoch 5/20\n",
      "105/105 [==============================] - 0s 3ms/step - loss: 4.2590e-04\n",
      "Epoch 6/20\n",
      "105/105 [==============================] - 1s 6ms/step - loss: 7.0727e-04\n",
      "Epoch 7/20\n",
      "105/105 [==============================] - 0s 3ms/step - loss: 4.1385e-04\n",
      "Epoch 8/20\n",
      "105/105 [==============================] - 0s 3ms/step - loss: 3.7756e-04\n",
      "Epoch 9/20\n",
      "105/105 [==============================] - 0s 3ms/step - loss: 3.9502e-04\n",
      "Epoch 10/20\n",
      "105/105 [==============================] - 0s 3ms/step - loss: 4.3392e-04\n",
      "Epoch 11/20\n",
      "105/105 [==============================] - 0s 3ms/step - loss: 4.0535e-04\n",
      "Epoch 12/20\n",
      "105/105 [==============================] - 0s 3ms/step - loss: 4.0880e-04\n",
      "Epoch 13/20\n",
      "105/105 [==============================] - 0s 3ms/step - loss: 4.3071e-04\n",
      "Epoch 14/20\n",
      "105/105 [==============================] - 0s 3ms/step - loss: 4.2596e-04\n",
      "Epoch 15/20\n",
      "105/105 [==============================] - 0s 3ms/step - loss: 4.5922e-04\n",
      "Epoch 16/20\n",
      "105/105 [==============================] - 0s 3ms/step - loss: 5.5576e-04\n",
      "Epoch 17/20\n",
      "105/105 [==============================] - 0s 3ms/step - loss: 4.4728e-04\n",
      "Epoch 18/20\n",
      "105/105 [==============================] - 0s 3ms/step - loss: 5.1484e-04\n",
      "Epoch 19/20\n",
      "105/105 [==============================] - 0s 3ms/step - loss: 3.5136e-04\n",
      "Epoch 20/20\n",
      "105/105 [==============================] - 0s 3ms/step - loss: 3.8705e-04\n"
     ]
    },
    {
     "data": {
      "text/plain": [
       "<tensorflow.python.keras.callbacks.History at 0x7ff93b54e190>"
      ]
     },
     "execution_count": 27,
     "metadata": {},
     "output_type": "execute_result"
    }
   ],
   "source": [
    "#\n",
    "# Red LSTM\n",
    "#\n",
    "dim_entrada = (X_train.shape[1],1)\n",
    "dim_salida = 1\n",
    "print(dim_entrada)\n",
    "na = 200\n",
    "\n",
    "modelo = Sequential()\n",
    "modelo.add(LSTM(units=na, input_shape=dim_entrada))\n",
    "modelo.add(Dense(units=dim_salida))\n",
    "modelo.compile(optimizer='rmsprop', loss='mse')\n",
    "modelo.fit(X_train,Y_train,epochs=20,batch_size=12)"
   ]
  },
  {
   "cell_type": "code",
   "execution_count": 28,
   "metadata": {},
   "outputs": [
    {
     "name": "stdout",
     "output_type": "stream",
     "text": [
      "                 Close\n",
      "Date                  \n",
      "2020-01-02  209.779999\n",
      "2020-01-03  208.669998\n",
      "2020-01-06  212.600006\n",
      "2020-01-07  213.059998\n",
      "2020-01-08  215.220001\n",
      "...                ...\n",
      "2020-12-24  267.399994\n",
      "2020-12-28  277.000000\n",
      "2020-12-29  276.779999\n",
      "2020-12-30  271.869995\n",
      "2020-12-31  273.160004\n",
      "\n",
      "[253 rows x 1 columns]\n",
      "[[211.68962]\n",
      " [210.56552]\n",
      " [214.54543]\n",
      " [215.01126]\n",
      " [217.19862]\n",
      " [220.31755]\n",
      " [220.0745 ]\n",
      " [223.97282]\n",
      " [221.08711]\n",
      " [223.20334]\n",
      " [223.8311 ]\n",
      " [224.2057 ]\n",
      " [223.49698]\n",
      " [223.37547]\n",
      " [221.7959 ]\n",
      " [219.953  ]\n",
      " [216.84418]\n",
      " [219.80112]\n",
      " [225.30928]\n",
      " [211.43643]\n",
      " [203.71988]\n",
      " [206.0287 ]\n",
      " [211.74026]\n",
      " [212.02382]\n",
      " [212.77322]\n",
      " [214.272  ]\n",
      " [215.01126]\n",
      " [209.06674]\n",
      " [212.68205]\n",
      " [215.09227]\n",
      " [216.14545]\n",
      " [219.81123]\n",
      " [219.49733]\n",
      " [216.55054]\n",
      " [212.09468]\n",
      " [202.5149 ]\n",
      " [198.51538]\n",
      " [198.95073]\n",
      " [191.40886]\n",
      " [194.16212]\n",
      " [198.18127]\n",
      " [187.50238]\n",
      " [193.44339]\n",
      " [186.77383]\n",
      " [182.646  ]\n",
      " [170.92796]\n",
      " [179.71278]\n",
      " [171.67574]\n",
      " [155.75504]\n",
      " [171.71616]\n",
      " [147.22934]\n",
      " [150.66438]\n",
      " [148.18613]\n",
      " [154.40385]\n",
      " [150.97676]\n",
      " [149.33446]\n",
      " [162.32321]\n",
      " [157.50998]\n",
      " [164.70576]\n",
      " [158.09506]\n",
      " [167.34157]\n",
      " [168.20013]\n",
      " [160.93037]\n",
      " [159.50754]\n",
      " [155.46259]\n",
      " [166.93756]\n",
      " [170.25099]\n",
      " [175.75919]\n",
      " [176.67921]\n",
      " [176.2748 ]\n",
      " [179.69255]\n",
      " [178.47903]\n",
      " [177.75098]\n",
      " [180.77473]\n",
      " [179.76335]\n",
      " [172.24167]\n",
      " [183.84981]\n",
      " [186.73335]\n",
      " [191.73274]\n",
      " [189.13167]\n",
      " [184.48718]\n",
      " [195.90334]\n",
      " [206.55528]\n",
      " [204.08444]\n",
      " [207.11224]\n",
      " [208.9452 ]\n",
      " [210.36298]\n",
      " [213.1884 ]\n",
      " [214.29227]\n",
      " [215.13277]\n",
      " [212.0137 ]\n",
      " [206.95024]\n",
      " [208.68192]\n",
      " [212.80359]\n",
      " [215.14291]\n",
      " [218.87962]\n",
      " [232.13223]\n",
      " [233.5694 ]\n",
      " [237.13148]\n",
      " [234.38916]\n",
      " [231.29213]\n",
      " [227.56697]\n",
      " [227.19238]\n",
      " [234.09569]\n",
      " [234.9154 ]\n",
      " [232.32452]\n",
      " [228.40721]\n",
      " [232.94194]\n",
      " [233.57951]\n",
      " [240.93544]\n",
      " [238.9729 ]\n",
      " [226.5242 ]\n",
      " [230.72533]\n",
      " [234.69276]\n",
      " [237.88022]\n",
      " [237.7588 ]\n",
      " [238.17363]\n",
      " [241.05682]\n",
      " [241.49182]\n",
      " [244.5462 ]\n",
      " [236.23093]\n",
      " [237.91057]\n",
      " [218.0695 ]\n",
      " [222.68695]\n",
      " [229.19681]\n",
      " [239.80247]\n",
      " [235.62376]\n",
      " [242.56395]\n",
      " [243.15057]\n",
      " [245.90121]\n",
      " [246.8314 ]\n",
      " [247.40771]\n",
      " [241.26927]\n",
      " [242.00764]\n",
      " [242.56395]\n",
      " [243.22136]\n",
      " [244.33383]\n",
      " [247.76154]\n",
      " [244.05066]\n",
      " [242.14925]\n",
      " [234.79398]\n",
      " [232.8812 ]\n",
      " [235.70471]\n",
      " [232.28404]\n",
      " [235.49222]\n",
      " [236.71661]\n",
      " [256.0985 ]\n",
      " [254.3711 ]\n",
      " [252.21893]\n",
      " [251.50145]\n",
      " [267.81702]\n",
      " [271.00327]\n",
      " [265.51715]\n",
      " [258.58295]\n",
      " [262.37888]\n",
      " [263.80185]\n",
      " [263.7413 ]\n",
      " [263.66058]\n",
      " [264.85126]\n",
      " [265.10352]\n",
      " [271.57785]\n",
      " [269.56158]\n",
      " [273.97638]\n",
      " [283.4704 ]\n",
      " [306.64304]\n",
      " [295.92905]\n",
      " [296.37054]\n",
      " [295.90903]\n",
      " [298.15616]\n",
      " [305.23145]\n",
      " [293.82135]\n",
      " [285.39145]\n",
      " [273.74463]\n",
      " [276.3236 ]\n",
      " [270.65042]\n",
      " [269.15823]\n",
      " [268.6944 ]\n",
      " [275.01413]\n",
      " [266.04172]\n",
      " [257.26004]\n",
      " [254.94695]\n",
      " [250.52112]\n",
      " [257.18933]\n",
      " [251.40038]\n",
      " [251.91582]\n",
      " [257.26004]\n",
      " [259.27972]\n",
      " [264.2963 ]\n",
      " [264.4073 ]\n",
      " [269.17844]\n",
      " [262.42932]\n",
      " [267.18158]\n",
      " [261.13733]\n",
      " [260.5922 ]\n",
      " [266.28384]\n",
      " [266.9799 ]\n",
      " [278.36795]\n",
      " [278.7606 ]\n",
      " [274.40964]\n",
      " [269.26917]\n",
      " [268.47253]\n",
      " [263.90277]\n",
      " [270.1161 ]\n",
      " [281.3676 ]\n",
      " [280.75366]\n",
      " [287.46255]\n",
      " [279.7371 ]\n",
      " [285.95453]\n",
      " [270.227  ]\n",
      " [283.48047]\n",
      " [265.6281 ]\n",
      " [263.8624 ]\n",
      " [267.83716]\n",
      " [290.0653 ]\n",
      " [297.39386]\n",
      " [296.1197 ]\n",
      " [281.4078 ]\n",
      " [275.0242 ]\n",
      " [279.10287]\n",
      " [277.69324]\n",
      " [279.57605]\n",
      " [281.59903]\n",
      " [277.61273]\n",
      " [274.56076]\n",
      " [275.53796]\n",
      " [272.2733 ]\n",
      " [270.99316]\n",
      " [279.54584]\n",
      " [278.20682]\n",
      " [280.44165]\n",
      " [279.59613]\n",
      " [289.23135]\n",
      " [290.20593]\n",
      " [284.50644]\n",
      " [282.34366]\n",
      " [288.2566 ]\n",
      " [286.06512]\n",
      " [280.5524 ]\n",
      " [279.74716]\n",
      " [276.15237]\n",
      " [276.797  ]\n",
      " [278.16653]\n",
      " [278.28735]\n",
      " [277.08908]\n",
      " [279.02234]\n",
      " [275.38687]\n",
      " [269.64224]\n",
      " [270.67056]\n",
      " [269.95477]\n",
      " [279.62637]\n",
      " [279.40488]\n",
      " [274.46   ]]\n"
     ]
    },
    {
     "data": {
      "image/png": "[encoded data removed]",
      "text/plain": [
       "<Figure size 432x288 with 1 Axes>"
      ]
     },
     "metadata": {
      "needs_background": "light"
     },
     "output_type": "display_data"
    }
   ],
   "source": [
    "#\n",
    "# Validación (predicción del valor de las acciones)\n",
    "#\n",
    "\n",
    "x_test = set_validacion.values\n",
    "x_test = sc.transform(x_test)\n",
    "\n",
    "X_test = []\n",
    "\n",
    "m = len(x_test)\n",
    "for i in range(time_step,m):\n",
    "  X_test.append(x_test[i-time_step:i,0])\n",
    "X_test = np.array(X_test)\n",
    "X_test = np.reshape(X_test, (X_test.shape[0],X_test.shape[1],1))\n",
    "\n",
    "prediccion = modelo.predict(X_test)\n",
    "prediccion = sc.inverse_transform(prediccion)\n",
    "\n",
    "# Graficar resultados\n",
    "print(set_validacion)\n",
    "print(prediccion)\n",
    "graficar_predicciones(set_validacion.values,prediccion)"
   ]
  },
  {
   "cell_type": "code",
   "execution_count": 29,
   "metadata": {},
   "outputs": [
    {
     "name": "stdout",
     "output_type": "stream",
     "text": [
      " Train accuracy: 56925.9296875\n"
     ]
    }
   ],
   "source": [
    "score = modelo.evaluate(X_test, prediccion, batch_size=12, verbose=0)\n",
    "print(' Train accuracy:', score)"
   ]
  },
  {
   "cell_type": "code",
   "execution_count": null,
   "metadata": {},
   "outputs": [],
   "source": []
  }
 ],
 "metadata": {
  "colab": {
   "collapsed_sections": [],
   "name": "presentación.ipynb",
   "provenance": [],
   "toc_visible": true
  },
  "kernelspec": {
   "display_name": "Python 3",
   "language": "python",
   "name": "python3"
  },
  "language_info": {
   "codemirror_mode": {
    "name": "ipython",
    "version": 3
   },
   "file_extension": ".py",
   "mimetype": "text/x-python",
   "name": "python",
   "nbconvert_exporter": "python",
   "pygments_lexer": "ipython3",
   "version": "3.8.3"
  }
 },
 "nbformat": 4,
 "nbformat_minor": 4
}
